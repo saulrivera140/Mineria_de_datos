{
  "nbformat": 4,
  "nbformat_minor": 0,
  "metadata": {
    "orig_nbformat": 4,
    "language_info": {
      "name": "python",
      "version": "3.8.5"
    },
    "kernelspec": {
      "name": "python3",
      "display_name": "Python 3.8.5 32-bit"
    },
    "interpreter": {
      "hash": "98c15b35245ecdc8b03f65cef943e10afb16f8e20f8ad6c610dbebcca1758bba"
    },
    "colab": {
      "name": "Ej_Python_1857810.ipynb",
      "provenance": [],
      "collapsed_sections": []
    }
  },
  "cells": [
    {
      "cell_type": "markdown",
      "metadata": {
        "id": "CqiRq4Mrfa0F"
      },
      "source": [
        "### Ejercicio 1: \n",
        "\n",
        "Realiza una variable con tu matricula y realiza una secuencia de imprimir con tu nombre y tu matricula concatenados."
      ]
    },
    {
      "cell_type": "code",
      "metadata": {
        "colab": {
          "base_uri": "https://localhost:8080/"
        },
        "id": "zZj5gjQTfa0J",
        "outputId": "1d1140a2-d20a-4253-dc79-8c502e28ee99"
      },
      "source": [
        "mat=int(input(\"Matricula: \"))\n",
        "nom=str(input(\"Nombre: \"))\n",
        "print(str(mat)+\" \"+nom)"
      ],
      "execution_count": 1,
      "outputs": [
        {
          "output_type": "stream",
          "text": [
            "Matricula: 1857810\n",
            "Nombre: Saúl Andrés Rivera Castillo\n",
            "1857810 Saúl Andrés Rivera Castillo\n"
          ],
          "name": "stdout"
        }
      ]
    },
    {
      "cell_type": "markdown",
      "metadata": {
        "id": "dEEM2zABfa0L"
      },
      "source": [
        "### Ejercicio 2:\n",
        "\n",
        "Pidiendo el input del usuario pide dos números y crea una pequeña calculadora con los operadores básicos de suma, resta, multiplicación, división, y exponente."
      ]
    },
    {
      "cell_type": "code",
      "metadata": {
        "id": "JEwC6LMqfa0M",
        "colab": {
          "base_uri": "https://localhost:8080/"
        },
        "outputId": "ca98a201-b2e1-4474-ade4-393116cceec1"
      },
      "source": [
        "a=float(input(\"Ingrese un numero: \"))\n",
        "b=float(input(\"Ingrese otro numero: \"))\n",
        "op=\"\"\n",
        "while op!=\"7\":\n",
        "    print(\"\\t\\n\\n***Menú principal***\")\n",
        "    print(\"1.- Suma\")\n",
        "    print(\"2.- Resta\")\n",
        "    print(\"3.- Multiplicación\")\n",
        "    print(\"4.- División\")\n",
        "    print(\"5.- Exponente\")\n",
        "    print(\"6.- Ingresar otros números\")\n",
        "    print(\"7.- Salir\")\n",
        "    op=str(input(\"\\nTeclee una opción: \"))\n",
        "    if op==\"1\":\n",
        "        r=a+b\n",
        "        print(\"El resultado de la suma de ambos números es de: \",r)\n",
        "        pass\n",
        "    elif op==\"2\":\n",
        "        r=a-b\n",
        "        print(\"El resultado de la resta de ambos números es de: \",r)\n",
        "        pass\n",
        "    elif op==\"3\":\n",
        "        r=a*b\n",
        "        print(\"El resultado de la multiplicación de ambos números es de: \",r)\n",
        "        pass\n",
        "    elif op==\"4\":\n",
        "        r=a/b\n",
        "        print(\"El resultado de la división de \",a,\" entre \",b,\" es de: \",r)\n",
        "        pass\n",
        "    elif op==\"5\":\n",
        "        r=a**b\n",
        "        print(\"El resultado de \",a,\" elevado al exponente \",b,\" es de: \",r)\n",
        "        pass\n",
        "    elif op==\"6\":\n",
        "        a=float(input(\"Ingrese un numero: \"))\n",
        "        b=float(input(\"Ingrese otro numero: \"))\n",
        "        print(\"Números actualizados\")\n",
        "        pass\n",
        "    elif op==\"7\":\n",
        "        print(\"\\n\\n\\t¡SALIO DE LA CALCULADORA!\")\n",
        "        pass\n",
        "    else:\n",
        "        print(\"Error opción no valida\")\n",
        "        pass\n",
        "    pass"
      ],
      "execution_count": 11,
      "outputs": [
        {
          "output_type": "stream",
          "text": [
            "Ingrese un numero: 5\n",
            "Ingrese otro numero: 6\n",
            "\t\n",
            "\n",
            "***Menú principal***\n",
            "1.- Suma\n",
            "2.- Resta\n",
            "3.- Multiplicación\n",
            "4.- División\n",
            "5.- Exponente\n",
            "6.- Ingresar otros números\n",
            "7.- Salir\n",
            "\n",
            "Teclee una opción: 1\n",
            "El resultado de la suma de ambos números es de:  11.0\n",
            "\t\n",
            "\n",
            "***Menú principal***\n",
            "1.- Suma\n",
            "2.- Resta\n",
            "3.- Multiplicación\n",
            "4.- División\n",
            "5.- Exponente\n",
            "6.- Ingresar otros números\n",
            "7.- Salir\n",
            "\n",
            "Teclee una opción: 2\n",
            "El resultado de la resta de ambos números es de:  -1.0\n",
            "\t\n",
            "\n",
            "***Menú principal***\n",
            "1.- Suma\n",
            "2.- Resta\n",
            "3.- Multiplicación\n",
            "4.- División\n",
            "5.- Exponente\n",
            "6.- Ingresar otros números\n",
            "7.- Salir\n",
            "\n",
            "Teclee una opción: 3\n",
            "El resultado de la multiplicación de ambos números es de:  30.0\n",
            "\t\n",
            "\n",
            "***Menú principal***\n",
            "1.- Suma\n",
            "2.- Resta\n",
            "3.- Multiplicación\n",
            "4.- División\n",
            "5.- Exponente\n",
            "6.- Ingresar otros números\n",
            "7.- Salir\n",
            "\n",
            "Teclee una opción: 6\n",
            "Ingrese un numero: 8\n",
            "Ingrese otro numero: 2\n",
            "Números actualizados\n",
            "\t\n",
            "\n",
            "***Menú principal***\n",
            "1.- Suma\n",
            "2.- Resta\n",
            "3.- Multiplicación\n",
            "4.- División\n",
            "5.- Exponente\n",
            "6.- Ingresar otros números\n",
            "7.- Salir\n",
            "\n",
            "Teclee una opción: 4\n",
            "El resultado de la división de  8.0  entre  2.0  es de:  4.0\n",
            "\t\n",
            "\n",
            "***Menú principal***\n",
            "1.- Suma\n",
            "2.- Resta\n",
            "3.- Multiplicación\n",
            "4.- División\n",
            "5.- Exponente\n",
            "6.- Ingresar otros números\n",
            "7.- Salir\n",
            "\n",
            "Teclee una opción: 5\n",
            "El resultado de  8.0  elevado al exponente  2.0  es de:  64.0\n",
            "\t\n",
            "\n",
            "***Menú principal***\n",
            "1.- Suma\n",
            "2.- Resta\n",
            "3.- Multiplicación\n",
            "4.- División\n",
            "5.- Exponente\n",
            "6.- Ingresar otros números\n",
            "7.- Salir\n",
            "\n",
            "Teclee una opción: d\n",
            "Error opción no valida\n",
            "\t\n",
            "\n",
            "***Menú principal***\n",
            "1.- Suma\n",
            "2.- Resta\n",
            "3.- Multiplicación\n",
            "4.- División\n",
            "5.- Exponente\n",
            "6.- Ingresar otros números\n",
            "7.- Salir\n",
            "\n",
            "Teclee una opción: 7\n",
            "\n",
            "\n",
            "\t¡SALIO DE LA CALCULADORA!\n"
          ],
          "name": "stdout"
        }
      ]
    },
    {
      "cell_type": "markdown",
      "metadata": {
        "id": "839z7sf7fa0N"
      },
      "source": [
        "### Ejercicio 3: \n",
        "\n",
        "Con loop while o for, realiza una lista de 10 numeros multiplos de 3, y después realiza una función de loop que sume todos los números dentro del arreglo."
      ]
    },
    {
      "cell_type": "code",
      "metadata": {
        "colab": {
          "base_uri": "https://localhost:8080/"
        },
        "id": "VaHYjCN5fa0O",
        "outputId": "5388a75f-cfef-484a-8477-33da4e57a455"
      },
      "source": [
        "c=0\n",
        "i=0\n",
        "m3=list()\n",
        "s=0\n",
        "while c<10:\n",
        "   if i%3==0:\n",
        "      m3.append(i)\n",
        "      c+=1\n",
        "      pass\n",
        "   i+=1\n",
        "   pass\n",
        "for j in range(len(m3)):\n",
        "   s+=m3[j]\n",
        "   pass\n",
        "print(\"Lista con multiplos de 3\\n\",m3)\n",
        "print(\"\\nSuma de los numeros de la lista: \",s)"
      ],
      "execution_count": 2,
      "outputs": [
        {
          "output_type": "stream",
          "text": [
            "Lista con multiplos de 3\n",
            " [0, 3, 6, 9, 12, 15, 18, 21, 24, 27]\n",
            "\n",
            "Suma de los numeros de la lista:  135\n"
          ],
          "name": "stdout"
        }
      ]
    },
    {
      "cell_type": "markdown",
      "metadata": {
        "id": "CMIhA9Ltfa0P"
      },
      "source": [
        "### Ejercicio 4\n",
        "\n",
        "- Con una función de if else, revisar si un número es par o es impar.\n",
        "- Con una función de if else, revisar si un número es primo o no."
      ]
    },
    {
      "cell_type": "code",
      "metadata": {
        "id": "QU1yF3Mofa0R",
        "colab": {
          "base_uri": "https://localhost:8080/"
        },
        "outputId": "7bef3e4e-1419-4358-cf78-1827fe6c070c"
      },
      "source": [
        "x=int(input(\"Ingrese un numero: \"))\n",
        "if x%2==0:\n",
        "    print(\"El número es par\")\n",
        "    pass\n",
        "else:\n",
        "    print(\"El número es impar\")\n",
        "    pass\n",
        "if x<1:\n",
        "    print(\"El número no es primo\")\n",
        "    pass\n",
        "else:\n",
        "    for i in range(2,x):\n",
        "        if x%i==0:\n",
        "            print(\"El número no es primo\")\n",
        "            break\n",
        "        pass\n",
        "    if i==(x-1) or x==2:\n",
        "        print(\"El número es primo\")\n",
        "    pass"
      ],
      "execution_count": 3,
      "outputs": [
        {
          "output_type": "stream",
          "text": [
            "Ingrese un numero: 17\n",
            "El número es impar\n",
            "El número es primo\n"
          ],
          "name": "stdout"
        }
      ]
    },
    {
      "cell_type": "markdown",
      "metadata": {
        "id": "TfA7e2oAfa0S"
      },
      "source": [
        "### Ejercicio 5\n",
        "\n",
        "Utilizando diferentes clases en python, crea una calculadora con los operadores  básicos de suma, resta, multiplicación, división, y exponente."
      ]
    },
    {
      "cell_type": "code",
      "metadata": {
        "id": "9VVMidDKfa0V",
        "colab": {
          "base_uri": "https://localhost:8080/"
        },
        "outputId": "dd7546ef-fb22-4b1a-b8e6-c0b604743c01"
      },
      "source": [
        "class Calculadora:\n",
        "    def __init__(self,x,y):\n",
        "        self.x=x\n",
        "        self.y=y\n",
        "    def suma(self):\n",
        "        z=self.x+self.y\n",
        "        print(\"El resultado de la suma de ambos números es de: \",z)\n",
        "        pass\n",
        "    def resta(self):\n",
        "        z=self.x-self.y\n",
        "        print(\"El resultado de la resta de ambos números es de: \",z)\n",
        "        pass\n",
        "    def multiplicacion(self):\n",
        "        z=self.x*self.y\n",
        "        print(\"El resultado de la multiplicación de ambos números es de: \",z)\n",
        "        pass\n",
        "    def division(self):\n",
        "        z=self.x/self.y\n",
        "        print(\"El resultado de la división de \",self.x,\" entre \",self.y,\" es de: \",z)\n",
        "        pass\n",
        "    def exponente(self):\n",
        "        z=self.x**self.y\n",
        "        print(\"El resultado de \",self.x,\" elevado al exponente \",self.y,\" es de: \",z)\n",
        "        pass\n",
        "\n",
        "a=float(input(\"Ingrese un numero: \"))\n",
        "b=float(input(\"Ingrese otro numero: \"))\n",
        "op=\"\"\n",
        "while op!=\"7\":\n",
        "    print(\"\\t\\n\\n***Menú principal***\")\n",
        "    print(\"1.- Suma\")\n",
        "    print(\"2.- Resta\")\n",
        "    print(\"3.- Multiplicación\")\n",
        "    print(\"4.- División\")\n",
        "    print(\"5.- Exponente\")\n",
        "    print(\"6.- Ingresar otros números\")\n",
        "    print(\"7.- Salir\")\n",
        "    op=str(input(\"\\nTeclee una opción: \"))\n",
        "    if op==\"1\":\n",
        "        r=Calculadora(a,b).suma()\n",
        "        pass\n",
        "    elif op==\"2\":\n",
        "        r=Calculadora(a,b).resta()\n",
        "        pass\n",
        "    elif op==\"3\":\n",
        "        r=Calculadora(a,b).multiplicacion()\n",
        "        pass\n",
        "    elif op==\"4\":\n",
        "        r=Calculadora(a,b).division()\n",
        "        pass\n",
        "    elif op==\"5\":\n",
        "        r=Calculadora(a,b).exponente()\n",
        "        pass\n",
        "    elif op==\"6\":\n",
        "        a=float(input(\"Ingrese un numero: \"))\n",
        "        b=float(input(\"Ingrese otro numero: \"))\n",
        "        print(\"Números actualizados\")\n",
        "        pass\n",
        "    elif op==\"7\":\n",
        "        print(\"\\n\\n\\t¡SALIO DE LA CALCULADORA!\")\n",
        "        pass\n",
        "    else:\n",
        "        print(\"Error opción no valida\")\n",
        "        pass\n",
        "    pass"
      ],
      "execution_count": 14,
      "outputs": [
        {
          "output_type": "stream",
          "text": [
            "Ingrese un numero: 7\n",
            "Ingrese otro numero: 3\n",
            "\t\n",
            "\n",
            "***Menú principal***\n",
            "1.- Suma\n",
            "2.- Resta\n",
            "3.- Multiplicación\n",
            "4.- División\n",
            "5.- Exponente\n",
            "6.- Ingresar otros números\n",
            "7.- Salir\n",
            "\n",
            "Teclee una opción: 5\n",
            "El resultado de  7.0  elevado al exponente  3.0  es de:  343.0\n",
            "\t\n",
            "\n",
            "***Menú principal***\n",
            "1.- Suma\n",
            "2.- Resta\n",
            "3.- Multiplicación\n",
            "4.- División\n",
            "5.- Exponente\n",
            "6.- Ingresar otros números\n",
            "7.- Salir\n",
            "\n",
            "Teclee una opción: 6\n",
            "Ingrese un numero: 9\n",
            "Ingrese otro numero: 4\n",
            "Números actualizados\n",
            "\t\n",
            "\n",
            "***Menú principal***\n",
            "1.- Suma\n",
            "2.- Resta\n",
            "3.- Multiplicación\n",
            "4.- División\n",
            "5.- Exponente\n",
            "6.- Ingresar otros números\n",
            "7.- Salir\n",
            "\n",
            "Teclee una opción: 4\n",
            "El resultado de la división de  9.0  entre  4.0  es de:  2.25\n",
            "\t\n",
            "\n",
            "***Menú principal***\n",
            "1.- Suma\n",
            "2.- Resta\n",
            "3.- Multiplicación\n",
            "4.- División\n",
            "5.- Exponente\n",
            "6.- Ingresar otros números\n",
            "7.- Salir\n",
            "\n",
            "Teclee una opción: 7\n",
            "\n",
            "\n",
            "\t¡SALIO DE LA CALCULADORA!\n"
          ],
          "name": "stdout"
        }
      ]
    },
    {
      "cell_type": "markdown",
      "metadata": {
        "id": "AgsQvABCfa0V"
      },
      "source": [
        "## Ejercicios con estructuras básicas de python."
      ]
    },
    {
      "cell_type": "markdown",
      "metadata": {
        "id": "ohZzmdwjfa0W"
      },
      "source": [
        "#### Tuplas\n",
        "\n",
        "- Crear una variable flotante, integer, boleana y compleja e imprimir el tipo de variable que es.\n",
        "\n",
        "- Crear una tupla con valores enteros imprimir el primer y ultimo valor.\n",
        "\n",
        "- Añadir 3 valores de string a la tupla.\n",
        "\n",
        "- Verificar si una variable existe dentro de la tupla."
      ]
    },
    {
      "cell_type": "code",
      "metadata": {
        "id": "QIscSiVTfa0Y",
        "colab": {
          "base_uri": "https://localhost:8080/"
        },
        "outputId": "c0e68e8c-481c-4a99-9ec0-37e81f40552b"
      },
      "source": [
        "v1=3.141595\n",
        "print(type(v1))\n",
        "v2=12\n",
        "print(type(v2))\n",
        "v3=True\n",
        "print(type(v3))\n",
        "v4=6.32+45j\n",
        "print(type(v4))\n",
        "t=(16,42,33,12,91,64,25)\n",
        "print(\"Primer valor de la tupla: \",t[0])\n",
        "print(\"Ultimo valor de la tupla: \",t[len(t)-1])\n",
        "l=list(t)\n",
        "for i in range(3):\n",
        "    cad=str(input(\"Ingrese una palabra/oracion: \"))\n",
        "    l.append(cad)\n",
        "    pass\n",
        "t=tuple(l)\n",
        "print(t)\n",
        "print(v1 in t)\n",
        "print(v2 in t)\n",
        "print(v3 in t)\n",
        "print(v4 in t)"
      ],
      "execution_count": 15,
      "outputs": [
        {
          "output_type": "stream",
          "text": [
            "<class 'float'>\n",
            "<class 'int'>\n",
            "<class 'bool'>\n",
            "<class 'complex'>\n",
            "Primer valor de la tupla:  16\n",
            "Ultimo valor de la tupla:  25\n",
            "Ingrese una palabra/oracion: gato\n",
            "Ingrese una palabra/oracion: saltar\n",
            "Ingrese una palabra/oracion: muy alto\n",
            "(16, 42, 33, 12, 91, 64, 25, 'gato', 'saltar', 'muy alto')\n",
            "False\n",
            "True\n",
            "False\n",
            "False\n"
          ],
          "name": "stdout"
        }
      ]
    },
    {
      "cell_type": "markdown",
      "metadata": {
        "id": "gDgstHznfa0Y"
      },
      "source": [
        "#### Listas\n",
        "\n",
        "- Crear una lista con 40 elementos aleatorios enteros.\n",
        "\n",
        "- Con una funcion (def) crear dos listas nuevas a partir de la lista creada por numeros aleatorios, en la cual en una esten los elementos pares, y en la otra los elementos impares.\n",
        "\n",
        "- Crear dos variables con la longitud de ambas listas nuevas e imprimir las variables.\n",
        "\n",
        "- Ordenar los elementos de la lista par de mayor a menor, y los de la lista impar de menor a mayor.\n",
        "\n",
        "- Utilizar al menos cuatro de las funciones de listas en python en la lista original de 40 elementos."
      ]
    },
    {
      "cell_type": "code",
      "metadata": {
        "id": "L4OvwbiSfa0Z",
        "colab": {
          "base_uri": "https://localhost:8080/"
        },
        "outputId": "20a341ea-814c-4a06-a63b-51f642a1e588"
      },
      "source": [
        "import random\n",
        "def pares(m,p):\n",
        "    n=list()\n",
        "    if p==1:\n",
        "        for i in range(len(m)):\n",
        "            if m[i]%2==0:\n",
        "                n.append(m[i])\n",
        "                pass\n",
        "            pass\n",
        "        pass\n",
        "    else:\n",
        "        for i in range(len(m)):\n",
        "            if m[i]%2!=0:\n",
        "                n.append(m[i])\n",
        "                pass\n",
        "            pass\n",
        "        pass\n",
        "    return n\n",
        "lorg=random.sample(range(1,100),40)\n",
        "print(lorg)\n",
        "la=pares(lorg,1) #pares\n",
        "lb=pares(lorg,0) #impares\n",
        "print(la)\n",
        "print(lb)\n",
        "la.sort(reverse=True)\n",
        "lb.sort()\n",
        "print(la)\n",
        "print(lb)\n",
        "lorg.reverse()\n",
        "print(lorg)\n",
        "lorg.sort()\n",
        "print(lorg)\n",
        "lorg.clear()\n",
        "print(lorg)\n",
        "lorg.append(la)\n",
        "print(lorg)\n",
        "lorg.append(lb)\n",
        "print(lorg)"
      ],
      "execution_count": 17,
      "outputs": [
        {
          "output_type": "stream",
          "text": [
            "[57, 69, 27, 78, 38, 49, 28, 20, 58, 68, 12, 93, 95, 4, 77, 59, 91, 21, 9, 55, 62, 47, 45, 51, 72, 30, 96, 81, 7, 10, 83, 67, 40, 25, 33, 70, 23, 36, 65, 6]\n",
            "[78, 38, 28, 20, 58, 68, 12, 4, 62, 72, 30, 96, 10, 40, 70, 36, 6]\n",
            "[57, 69, 27, 49, 93, 95, 77, 59, 91, 21, 9, 55, 47, 45, 51, 81, 7, 83, 67, 25, 33, 23, 65]\n",
            "[96, 78, 72, 70, 68, 62, 58, 40, 38, 36, 30, 28, 20, 12, 10, 6, 4]\n",
            "[7, 9, 21, 23, 25, 27, 33, 45, 47, 49, 51, 55, 57, 59, 65, 67, 69, 77, 81, 83, 91, 93, 95]\n",
            "[6, 65, 36, 23, 70, 33, 25, 40, 67, 83, 10, 7, 81, 96, 30, 72, 51, 45, 47, 62, 55, 9, 21, 91, 59, 77, 4, 95, 93, 12, 68, 58, 20, 28, 49, 38, 78, 27, 69, 57]\n",
            "[4, 6, 7, 9, 10, 12, 20, 21, 23, 25, 27, 28, 30, 33, 36, 38, 40, 45, 47, 49, 51, 55, 57, 58, 59, 62, 65, 67, 68, 69, 70, 72, 77, 78, 81, 83, 91, 93, 95, 96]\n",
            "[]\n",
            "[[96, 78, 72, 70, 68, 62, 58, 40, 38, 36, 30, 28, 20, 12, 10, 6, 4]]\n",
            "[[96, 78, 72, 70, 68, 62, 58, 40, 38, 36, 30, 28, 20, 12, 10, 6, 4], [7, 9, 21, 23, 25, 27, 33, 45, 47, 49, 51, 55, 57, 59, 65, 67, 69, 77, 81, 83, 91, 93, 95]]\n"
          ],
          "name": "stdout"
        }
      ]
    },
    {
      "cell_type": "markdown",
      "metadata": {
        "id": "u76cvSWWfa0a"
      },
      "source": [
        "#### Diccionarios\n",
        "\n",
        "- Crear un diccionario de 6 personas que conozcas con su primer nombre y su edad.\n",
        "\n",
        "- Crear una lista con los valores de la edad y reacomodar la lista de menor a mayor valor.\n",
        "\n",
        "- Usando el diccionario y un loop, imprimir solo los nombres.\n",
        "\n",
        "- Añadir dos personas nuevas a tu diccionario, incluyendo edad."
      ]
    },
    {
      "cell_type": "code",
      "metadata": {
        "id": "3MEtKWCjfa0a",
        "colab": {
          "base_uri": "https://localhost:8080/"
        },
        "outputId": "740553c6-9624-42cd-a496-6af2bf3c0306"
      },
      "source": [
        "personas=[{\"Nombre\":\"Fernando\",\"Edad\":18},{\"Nombre\":\"Imelda\",\"Edad\":47},{\"Nombre\":\"Erick\",\"Edad\":19},{\"Nombre\":\"Hugo\",\"Edad\":22},{\"Nombre\":\"Melissa\",\"Edad\":21},{\"Nombre\":\"Vanessa\",\"Edad\":32}]\n",
        "e=list()\n",
        "for persona in personas:\n",
        "    e.append(persona[\"Edad\"])\n",
        "    pass\n",
        "e.sort()\n",
        "print(e)\n",
        "for persona in personas:\n",
        "    print(persona[\"Nombre\"])\n",
        "    pass\n",
        "for i in range(2):\n",
        "    nombre=input(\"Ingrese el primer nombre de una persona que conozca: \")\n",
        "    edad=input(\"Ingrese su edad: \")\n",
        "    persona={\"Nombre\":nombre,\"Edad\":edad}\n",
        "    personas.append(persona)\n",
        "    pass\n",
        "print(personas)"
      ],
      "execution_count": 18,
      "outputs": [
        {
          "output_type": "stream",
          "text": [
            "[18, 19, 21, 22, 32, 47]\n",
            "Fernando\n",
            "Imelda\n",
            "Erick\n",
            "Hugo\n",
            "Melissa\n",
            "Vanessa\n",
            "Ingrese el primer nombre de una persona que conozca: Ana\n",
            "Ingrese su edad: 24\n",
            "Ingrese el primer nombre de una persona que conozca: Osied\n",
            "Ingrese su edad: 20\n",
            "[{'Nombre': 'Fernando', 'Edad': 18}, {'Nombre': 'Imelda', 'Edad': 47}, {'Nombre': 'Erick', 'Edad': 19}, {'Nombre': 'Hugo', 'Edad': 22}, {'Nombre': 'Melissa', 'Edad': 21}, {'Nombre': 'Vanessa', 'Edad': 32}, {'Nombre': 'Ana', 'Edad': '24'}, {'Nombre': 'Osied', 'Edad': '20'}]\n"
          ],
          "name": "stdout"
        }
      ]
    },
    {
      "cell_type": "markdown",
      "metadata": {
        "id": "FD8xd4Tufa0b"
      },
      "source": [
        "#### Sets\n",
        "\n",
        "- Crea un set con 100 numeros aleatorios enteros del 1 al 25.\n",
        "\n",
        "- Comprueba la longitud de tu set.\n",
        "\n",
        "- Crea una lista de 5 numeros aleatorios del 1 al 10 y comprueba si cada valor aparece en el set inicial."
      ]
    },
    {
      "cell_type": "code",
      "metadata": {
        "id": "4GgfmaV4fa0b",
        "colab": {
          "base_uri": "https://localhost:8080/"
        },
        "outputId": "3566c0de-2aa2-4fd9-cee8-7a97cf8c2fd6"
      },
      "source": [
        "s1=set() #no contendrá elementos duplicados\n",
        "for i in range(100):\n",
        "    num=random.randint(1,25)\n",
        "    s1.add(num)\n",
        "    pass\n",
        "print(s1)\n",
        "print(len(s1))\n",
        "l_alt=list()\n",
        "for i in range(5):\n",
        "    num=random.randint(1,10)\n",
        "    l_alt.append(num)\n",
        "    pass\n",
        "print(l_alt)\n",
        "for i in range(5):\n",
        "    print(l_alt[i] in s1)\n",
        "    pass"
      ],
      "execution_count": 21,
      "outputs": [
        {
          "output_type": "stream",
          "text": [
            "{1, 2, 4, 5, 6, 7, 8, 9, 10, 11, 12, 13, 14, 15, 16, 17, 18, 19, 20, 21, 22, 23, 24, 25}\n",
            "24\n",
            "[3, 1, 1, 10, 9]\n",
            "False\n",
            "True\n",
            "True\n",
            "True\n",
            "True\n"
          ],
          "name": "stdout"
        }
      ]
    }
  ]
}